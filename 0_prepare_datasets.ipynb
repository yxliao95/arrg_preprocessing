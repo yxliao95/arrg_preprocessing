{
 "cells": [
  {
   "cell_type": "markdown",
   "metadata": {},
   "source": [
    "# Prepare interpret-cxr dataset"
   ]
  },
  {
   "cell_type": "code",
   "execution_count": null,
   "metadata": {},
   "outputs": [],
   "source": [
    "import datasets\n",
    "from datasets import load_dataset"
   ]
  },
  {
   "cell_type": "markdown",
   "metadata": {},
   "source": [
    "Download\n",
    "\n",
    "data will be cached to `~.cache/huggingface/datasets` by default"
   ]
  },
  {
   "cell_type": "code",
   "execution_count": null,
   "metadata": {},
   "outputs": [],
   "source": [
    "dataset = load_dataset(\"StanfordAIMI/interpret-cxr-public\")"
   ]
  },
  {
   "cell_type": "code",
   "execution_count": null,
   "metadata": {},
   "outputs": [],
   "source": [
    "dataset_test = load_dataset(\"StanfordAIMI/interpret-cxr-test-hidden\")"
   ]
  },
  {
   "cell_type": "code",
   "execution_count": null,
   "metadata": {},
   "outputs": [],
   "source": [
    "dataset_test_public = load_dataset(\"StanfordAIMI/interpret-cxr-test-public\")"
   ]
  },
  {
   "cell_type": "markdown",
   "metadata": {},
   "source": [
    "Save to disk"
   ]
  },
  {
   "cell_type": "code",
   "execution_count": null,
   "metadata": {},
   "outputs": [],
   "source": [
    "dataset.save_to_disk(\"/home/yuxiang/liao/mimic/interpret-cxr\")"
   ]
  },
  {
   "cell_type": "code",
   "execution_count": null,
   "metadata": {},
   "outputs": [],
   "source": [
    "dataset_test.save_to_disk(\"/home/yuxiang/liao/mimic/interpret-cxr-test-hidden\")"
   ]
  },
  {
   "cell_type": "code",
   "execution_count": null,
   "metadata": {},
   "outputs": [],
   "source": [
    "dataset_test_public.save_to_disk(\"/home/yuxiang/liao/mimic/interpret-cxr-test-public\")"
   ]
  },
  {
   "cell_type": "markdown",
   "metadata": {},
   "source": [
    "Load from disk"
   ]
  },
  {
   "cell_type": "code",
   "execution_count": null,
   "metadata": {},
   "outputs": [],
   "source": [
    "dataset = datasets.load_from_disk(\"/home/yuxiang/liao/mimic/interpret-cxr\")"
   ]
  },
  {
   "cell_type": "code",
   "execution_count": null,
   "metadata": {},
   "outputs": [],
   "source": [
    "dataset[\"train\"][0][\"images\"]"
   ]
  },
  {
   "cell_type": "code",
   "execution_count": null,
   "metadata": {},
   "outputs": [],
   "source": [
    "dataset.add(dataset_test_public)"
   ]
  },
  {
   "cell_type": "markdown",
   "metadata": {},
   "source": [
    "# Resize mimic-cxr-jpg dataset"
   ]
  },
  {
   "cell_type": "code",
   "execution_count": null,
   "metadata": {},
   "outputs": [],
   "source": [
    "import os\n",
    "from tqdm import tqdm\n",
    "from PIL import Image"
   ]
  },
  {
   "cell_type": "code",
   "execution_count": null,
   "metadata": {},
   "outputs": [],
   "source": [
    "def resize_images(input_dir, output_dir, max_size=768):\n",
    "    # 创建输出目录\n",
    "    os.makedirs(output_dir, exist_ok=True)\n",
    "\n",
    "    # 遍历输入目录下的所有文件和子目录\n",
    "    for root, dirs, files in tqdm(os.walk(input_dir)):\n",
    "        for filename in files:\n",
    "            # 检查文件是否为图片文件\n",
    "            if filename.lower().endswith((\".png\", \".jpg\", \".jpeg\", \".gif\", \".bmp\")):\n",
    "                # 构建输入文件的完整路径\n",
    "                input_path = os.path.join(root, filename)\n",
    "\n",
    "                # 构建输出文件的相对路径（保留相对目录结构）\n",
    "                relative_path = os.path.relpath(input_path, input_dir)\n",
    "                output_path = os.path.join(output_dir, relative_path)\n",
    "\n",
    "                # 创建输出文件所在的目录（如果不存在）\n",
    "                os.makedirs(os.path.dirname(output_path), exist_ok=True)\n",
    "\n",
    "                # 打开图片文件并进行等比例缩放\n",
    "                with Image.open(input_path) as img:\n",
    "                    # 获取原始图像的宽度和高度\n",
    "                    width, height = img.size\n",
    "\n",
    "                    # 计算缩放比例\n",
    "                    if max(width, height) > max_size:\n",
    "                        if width >= height:\n",
    "                            new_width = max_size\n",
    "                            new_height = int(height * max_size / width)\n",
    "                        else:\n",
    "                            new_width = int(width * max_size / height)\n",
    "                            new_height = max_size\n",
    "                        # 缩放图像\n",
    "                        img = img.resize((new_width, new_height), Image.BICUBIC)\n",
    "\n",
    "                    # 保存缩放后的图像到输出路径\n",
    "                    img.save(output_path)\n",
    "\n",
    "\n",
    "# 指定输入目录和输出目录\n",
    "input_directory = \"/home/yuxiang/liao/mimic/mimic-cxr-jpg/2.1.0/files\"\n",
    "output_directory = \"/home/yuxiang/liao/mimic/mimic-cxr-jpg-resized/files\"\n",
    "\n",
    "# 调用函数进行图片缩放\n",
    "resize_images(input_directory, output_directory)"
   ]
  },
  {
   "cell_type": "code",
   "execution_count": null,
   "metadata": {},
   "outputs": [],
   "source": [
    "import shutil\n",
    "import os\n",
    "\n",
    "input_directory = \"/home/yuxiang/liao/mimic/mimic-cxr-jpg/2.1.0\"\n",
    "output_directory = \"/home/yuxiang/liao/mimic/mimic-cxr-jpg-resized\"\n",
    "\n",
    "# Copy the file to the destination directory\n",
    "shutil.copy(os.path.join(input_directory, \"train_mimic.json\"), output_directory)\n",
    "shutil.copy(os.path.join(input_directory, \"val_mimic.json\"), output_directory)"
   ]
  },
  {
   "cell_type": "markdown",
   "metadata": {},
   "source": [
    "# Prepare mimic-cxr dataset"
   ]
  },
  {
   "cell_type": "markdown",
   "metadata": {},
   "source": [
    "- https://stanford-aimi.github.io/RRG24/\n",
    "- https://github.com/Stanford-AIMI/RRG24/issues/3"
   ]
  },
  {
   "cell_type": "code",
   "execution_count": null,
   "metadata": {},
   "outputs": [],
   "source": [
    "from datasets import load_dataset, Sequence, Image, DatasetDict, concatenate_datasets\n",
    "import os"
   ]
  },
  {
   "cell_type": "code",
   "execution_count": null,
   "metadata": {},
   "outputs": [],
   "source": [
    "data_dir = \"/home/yuxiang/liao/mimic/mimic-cxr-jpg-resized\"\n",
    "\n",
    "dataset_mimic = load_dataset(\"json\", data_files={\"train\": os.path.join(data_dir, \"train_mimic.json\"), \"validation\": os.path.join(data_dir, \"val_mimic.json\")})"
   ]
  },
  {
   "cell_type": "code",
   "execution_count": null,
   "metadata": {},
   "outputs": [],
   "source": [
    "PATH_PREFIX = data_dir\n",
    "\n",
    "\n",
    "def add_prefix(example):\n",
    "    example[\"images\"] = [os.path.join(PATH_PREFIX, i) for i in example[\"images\"]]\n",
    "    return example\n",
    "\n",
    "\n",
    "dataset_mimic = dataset_mimic.map(add_prefix, num_proc=8)"
   ]
  },
  {
   "cell_type": "code",
   "execution_count": null,
   "metadata": {},
   "outputs": [],
   "source": [
    "dataset_mimic = dataset_mimic.cast_column(\"images\", Sequence(Image()))"
   ]
  },
  {
   "cell_type": "code",
   "execution_count": null,
   "metadata": {},
   "outputs": [],
   "source": [
    "dataset_mimic[\"train\"][1][\"images\"]"
   ]
  },
  {
   "cell_type": "markdown",
   "metadata": {},
   "source": [
    "# Concat both datasets"
   ]
  },
  {
   "cell_type": "code",
   "execution_count": null,
   "metadata": {},
   "outputs": [],
   "source": [
    "dataset_final = DatasetDict({\"train\": concatenate_datasets([dataset[\"train\"], dataset_mimic[\"train\"]]), \"validation\": concatenate_datasets([dataset[\"validation\"], dataset_mimic[\"validation\"]])})"
   ]
  },
  {
   "cell_type": "code",
   "execution_count": null,
   "metadata": {},
   "outputs": [],
   "source": [
    "dataset_final"
   ]
  }
 ],
 "metadata": {
  "kernelspec": {
   "display_name": "arrg",
   "language": "python",
   "name": "python3"
  },
  "language_info": {
   "codemirror_mode": {
    "name": "ipython",
    "version": 3
   },
   "file_extension": ".py",
   "mimetype": "text/x-python",
   "name": "python",
   "nbconvert_exporter": "python",
   "pygments_lexer": "ipython3",
   "version": "3.10.13"
  }
 },
 "nbformat": 4,
 "nbformat_minor": 2
}
