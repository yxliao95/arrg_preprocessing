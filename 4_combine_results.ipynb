{
 "cells": [
  {
   "cell_type": "markdown",
   "metadata": {},
   "source": [
    "合并结果：\n",
    "1. 将interpret-cxr的train dev test，以及findings impression整理为raw_reports.json\n",
    "\t1. /home/yuxiang/liao/workspace/arrg_data_processing/1_get_raw_json.ipynb  (Interpret-cxr docs) \n",
    "\t2. 输入为interpret-cxr\n",
    "\t3. 输出为：outputs/interpret_report/raw.json \n",
    "2. 利用llm，将句子进行拆分，移除连词\n",
    "\t1. /home/yuxiang/liao/workspace/arrg_sentgen/llm_split_sent.py \n",
    "\t2. 输入为step1\n",
    "\t3. 输出 outputs/interpret_cxr/llm_sent_splits_1_of_3.json \n",
    "3. 将拆分后的句子进行bioportal\n",
    "\t1. /home/yuxiang/liao/workspace/arrg_report2graph/1_bioportal_annotate_4sents.py\n",
    "\t2. 输入为step2，\n",
    "\t3. 输出为 outputs/interpret_sents/bioportal_annotated_radlex/train_dev_test.jsonlines \n",
    "4. 对拆分后的句子重新整理，作为cxrgraph和radcoref的输入\n",
    "\t1. /home/yuxiang/liao/workspace/arrg_data_processing/1_get_raw_json.ipynb  (Interpret-cxr sentences) \n",
    "\t2. 输入为step2，\n",
    "\t3. 输出为 outputs/interpret_sents/raw4cxrgraph.json\n",
    "5. cxrgraph\n",
    "\t1. /home/yuxiang/liao/workspace/arrg_cxrgraph/inference/inference.sh\n",
    "\t2. 输入step4\n",
    "\t3. 输出：outputs/interpret-cxr-sents/inference.json\n",
    "6. radcoref\n",
    "\t1. /home/yuxiang/liao/workspace/fast-coref/src/inference/custom_inference.py\n",
    "\t2. 输入 step4\n",
    "\t3. 输出：outputs/interpret_sents/coref_inference.json"
   ]
  },
  {
   "cell_type": "code",
   "execution_count": 25,
   "metadata": {},
   "outputs": [],
   "source": [
    "raw_reports = \"/home/yuxiang/liao/workspace/arrg_data_processing/outputs/interpret_report/raw.json\"\n",
    "llm_sents = \"/home/yuxiang/liao/workspace/arrg_sentgen/outputs/interpret_cxr/llm_sent_splits_1_of_3.json\"\n",
    "biop_sents = \"/home/yuxiang/liao/workspace/arrg_report2graph/outputs/interpret_sents/bioportal_annotated_radlex/train_dev_test.jsonlines\"\n",
    "raw_sents = \"/home/yuxiang/liao/workspace/arrg_data_processing/outputs/interpret_sents/raw4cxrgraph.json\"\n",
    "cxrg_sents = \"/home/yuxiang/liao/workspace/arrg_cxrgraph/outputs/interpret-cxr-sents/inference.json\"\n",
    "radcoref_sents = \"/home/yuxiang/liao/workspace/fast-coref/outputs/interpret_sents/coref_inference.json\""
   ]
  },
  {
   "cell_type": "code",
   "execution_count": 61,
   "metadata": {},
   "outputs": [],
   "source": [
    "import datasets\n",
    "from datasets import load_dataset, Sequence, Image, DatasetDict, concatenate_datasets, Dataset\n",
    "import os\n",
    "import json\n",
    "from tqdm import tqdm\n",
    "import re\n",
    "import copy"
   ]
  },
  {
   "cell_type": "code",
   "execution_count": 22,
   "metadata": {},
   "outputs": [],
   "source": [
    "temp_dir = \"/home/yuxiang/liao/workspace/arrg_preprocessing/outputs/interpret_sents/combined_results\"\n",
    "\n",
    "\n",
    "def save_temp_ds(ds, version=1):\n",
    "    if version == 1:\n",
    "        temp_path = os.path.join(temp_dir, \"temp_v1\")\n",
    "    else:\n",
    "        temp_path = os.path.join(temp_dir, \"temp_v2\")\n",
    "    ds.save_to_disk(temp_path)\n",
    "    return temp_path"
   ]
  },
  {
   "cell_type": "markdown",
   "metadata": {},
   "source": [
    "## Load the original dataset: interpret-cxr"
   ]
  },
  {
   "cell_type": "code",
   "execution_count": 4,
   "metadata": {},
   "outputs": [],
   "source": [
    "data_dir = \"/home/yuxiang/liao/mimic/mimic-cxr-jpg/2.1.0\"\n",
    "PATH_PREFIX = \"/home/yuxiang/liao/mimic/mimic-cxr-jpg/2.1.0\"\n",
    "\n",
    "dataset_interpret = datasets.load_from_disk(\"/home/yuxiang/liao/resources/datasets/interpret-cxr\")\n",
    "dataset_interpret_test_public = datasets.load_from_disk(\"/home/yuxiang/liao/resources/datasets/interpret-cxr-test-public\")\n",
    "dataset_mimic = load_dataset(\"json\", data_files={\"train\": os.path.join(data_dir, \"train_mimic.json\"), \"validation\": os.path.join(data_dir, \"val_mimic.json\")})\n",
    "\n",
    "\n",
    "def add_prefix(example):\n",
    "    example[\"images\"] = [os.path.join(PATH_PREFIX, i) for i in example[\"images\"]]\n",
    "    return example\n",
    "\n",
    "\n",
    "dataset_mimic = dataset_mimic.map(add_prefix, num_proc=8).cast_column(\"images\", Sequence(Image()))\n",
    "dataset_final = DatasetDict({\"train\": concatenate_datasets([dataset_interpret[\"train\"], dataset_mimic[\"train\"]]), \"validation\": concatenate_datasets([dataset_interpret[\"validation\"], dataset_mimic[\"validation\"]]), \"test\": dataset_interpret_test_public[\"test\"]})\n",
    "# We don't need this column at the moment. It will slowdown the iter speed\n",
    "dataset_final = dataset_final.remove_columns([\"images\"])"
   ]
  },
  {
   "cell_type": "code",
   "execution_count": 5,
   "metadata": {},
   "outputs": [
    {
     "data": {
      "text/plain": [
       "DatasetDict({\n",
       "    train: Dataset({\n",
       "        features: ['source', 'images_path', 'impression', 'findings'],\n",
       "        num_rows: 550395\n",
       "    })\n",
       "    validation: Dataset({\n",
       "        features: ['source', 'images_path', 'impression', 'findings'],\n",
       "        num_rows: 14111\n",
       "    })\n",
       "    test: Dataset({\n",
       "        features: ['findings', 'impression'],\n",
       "        num_rows: 3677\n",
       "    })\n",
       "})"
      ]
     },
     "execution_count": 5,
     "metadata": {},
     "output_type": "execute_result"
    }
   ],
   "source": [
    "dataset_final"
   ]
  },
  {
   "cell_type": "markdown",
   "metadata": {},
   "source": [
    "Convert dataset row scale from \"study\" to \"section\""
   ]
  },
  {
   "cell_type": "code",
   "execution_count": 6,
   "metadata": {},
   "outputs": [],
   "source": [
    "def dataset_generator():\n",
    "    for split in [\"train\", \"validation\", \"test\"]:\n",
    "        for idx, data in enumerate(dataset_final[split]):\n",
    "            doc_key_prefix = f\"{split}#{idx}\"\n",
    "            yield {\"doc_key\": f\"{doc_key_prefix}#findings\", \"original_text\": data[\"findings\"]}\n",
    "            yield {\"doc_key\": f\"{doc_key_prefix}#impression\", \"original_text\": data[\"impression\"]}"
   ]
  },
  {
   "cell_type": "code",
   "execution_count": 7,
   "metadata": {},
   "outputs": [
    {
     "name": "stderr",
     "output_type": "stream",
     "text": [
      "Generating train split: 1136366 examples [00:17, 63676.15 examples/s]\n"
     ]
    }
   ],
   "source": [
    "new_ds = Dataset.from_generator(dataset_generator)"
   ]
  },
  {
   "cell_type": "code",
   "execution_count": 11,
   "metadata": {},
   "outputs": [
    {
     "name": "stderr",
     "output_type": "stream",
     "text": [
      "Saving the dataset (1/1 shards): 100%|██████████| 1136366/1136366 [00:00<00:00, 4769741.60 examples/s]\n"
     ]
    }
   ],
   "source": [
    "temp_path = save_temp_ds(new_ds, version=1)"
   ]
  },
  {
   "cell_type": "markdown",
   "metadata": {},
   "source": [
    "## 将spacy分词后的结果加入到新数据集中"
   ]
  },
  {
   "cell_type": "code",
   "execution_count": 12,
   "metadata": {},
   "outputs": [],
   "source": [
    "with open(raw_reports, \"r\") as f:\n",
    "    docs = [json.loads(line) for line in f]"
   ]
  },
  {
   "cell_type": "code",
   "execution_count": 13,
   "metadata": {},
   "outputs": [
    {
     "name": "stderr",
     "output_type": "stream",
     "text": [
      "100%|██████████| 1136366/1136366 [00:19<00:00, 57313.99it/s]\n"
     ]
    }
   ],
   "source": [
    "new_column = []\n",
    "for idx, doc in enumerate(tqdm(docs)):\n",
    "    if doc[\"sentences\"] != []:\n",
    "        first_tok = doc[\"sentences\"][0][0]\n",
    "        assert first_tok == new_ds[idx][\"original_text\"][: len(first_tok)], f\"doc: {doc}, ds: {new_ds[idx]}\"\n",
    "    new_column.append(doc[\"sentences\"])"
   ]
  },
  {
   "cell_type": "code",
   "execution_count": 14,
   "metadata": {},
   "outputs": [],
   "source": [
    "new_ds = new_ds.add_column(\"original_sentences\", new_column)\n",
    "new_ds"
   ]
  },
  {
   "cell_type": "code",
   "execution_count": 15,
   "metadata": {},
   "outputs": [
    {
     "name": "stderr",
     "output_type": "stream",
     "text": [
      "Saving the dataset (1/1 shards): 100%|██████████| 1136366/1136366 [00:01<00:00, 799517.24 examples/s] \n"
     ]
    },
    {
     "data": {
      "text/plain": [
       "Dataset({\n",
       "    features: ['doc_key', 'original_text', 'original_sentences'],\n",
       "    num_rows: 1136366\n",
       "})"
      ]
     },
     "execution_count": 15,
     "metadata": {},
     "output_type": "execute_result"
    }
   ],
   "source": [
    "temp_path = save_temp_ds(new_ds, version=2)"
   ]
  },
  {
   "cell_type": "markdown",
   "metadata": {},
   "source": [
    "## 将llm拆分后的原始句子加入新数据集\n",
    "\n",
    "注意：\n",
    "1. 前后的空白字符\n",
    "2. 空句子\n",
    "3. "
   ]
  },
  {
   "cell_type": "code",
   "execution_count": 16,
   "metadata": {},
   "outputs": [
    {
     "data": {
      "text/plain": [
       "Dataset({\n",
       "    features: ['doc_key', 'original_text', 'original_sentences'],\n",
       "    num_rows: 1136366\n",
       "})"
      ]
     },
     "execution_count": 16,
     "metadata": {},
     "output_type": "execute_result"
    }
   ],
   "source": [
    "new_ds = datasets.load_from_disk(temp_path)\n",
    "new_ds"
   ]
  },
  {
   "cell_type": "code",
   "execution_count": 17,
   "metadata": {},
   "outputs": [
    {
     "name": "stderr",
     "output_type": "stream",
     "text": [
      "991884it [00:02, 471560.84it/s]\n",
      "1051578it [00:03, 280290.14it/s]\n",
      "1231038it [00:04, 288930.04it/s]\n"
     ]
    }
   ],
   "source": [
    "docKey2splitSentDict = {doc_key: {} for doc_key in new_ds[\"doc_key\"]}\n",
    "\n",
    "\n",
    "def read_file_generator(file_path):\n",
    "    with open(file_path, \"r\", encoding=\"utf-8\") as f:\n",
    "        for line in f:\n",
    "            out = line.strip()\n",
    "            yield json.loads(out)\n",
    "\n",
    "\n",
    "for partition in [1, 2, 3]:\n",
    "    input_file_path = os.path.join(os.path.dirname(llm_sents), f\"llm_sent_splits_{partition}_of_3.json\")\n",
    "    for doc in tqdm(read_file_generator(input_file_path)):\n",
    "        # doc[\"sent_idx\"] could be None, if the original text is None\n",
    "        docKey2splitSentDict[doc[\"doc_key\"]][doc[\"sent_idx\"]] = doc[\"sent_splits\"]"
   ]
  },
  {
   "cell_type": "code",
   "execution_count": 18,
   "metadata": {},
   "outputs": [
    {
     "name": "stderr",
     "output_type": "stream",
     "text": [
      "100%|██████████| 1136366/1136366 [01:24<00:00, 13404.21it/s]\n"
     ]
    }
   ],
   "source": [
    "new_column = []\n",
    "\n",
    "for row_idx, (doc_key, sent_dict) in enumerate(tqdm(docKey2splitSentDict.items())):\n",
    "    if None in sent_dict:\n",
    "        new_column.append([])\n",
    "        continue\n",
    "    else:\n",
    "        split_text = []\n",
    "        for sent_idx, split_sent_list in sorted(sent_dict.items(), key=lambda x: x[0]):\n",
    "            # for split_sent in split_sent_list:\n",
    "            #     assert len(split_sent) == len(split_sent.strip()), f\"{split_sent} || {sent_dict}\"\n",
    "            split_text.append(split_sent_list)\n",
    "\n",
    "        assert new_ds[row_idx][\"doc_key\"] == doc_key\n",
    "        assert len(split_text) == len(new_ds[row_idx][\"original_sentences\"])\n",
    "        new_column.append(split_text)"
   ]
  },
  {
   "cell_type": "code",
   "execution_count": 20,
   "metadata": {},
   "outputs": [
    {
     "data": {
      "text/plain": [
       "Dataset({\n",
       "    features: ['doc_key', 'original_text', 'original_sentences', 'split_text'],\n",
       "    num_rows: 1136366\n",
       "})"
      ]
     },
     "execution_count": 20,
     "metadata": {},
     "output_type": "execute_result"
    }
   ],
   "source": [
    "new_ds = new_ds.add_column(\"split_text\", new_column)\n",
    "new_ds"
   ]
  },
  {
   "cell_type": "code",
   "execution_count": 23,
   "metadata": {},
   "outputs": [
    {
     "name": "stderr",
     "output_type": "stream",
     "text": [
      "Saving the dataset (2/2 shards): 100%|██████████| 1136366/1136366 [00:00<00:00, 2076117.98 examples/s]\n"
     ]
    }
   ],
   "source": [
    "temp_path = save_temp_ds(new_ds, version=1)"
   ]
  },
  {
   "cell_type": "markdown",
   "metadata": {},
   "source": [
    "## 解析Bioportal的结果"
   ]
  },
  {
   "cell_type": "code",
   "execution_count": 26,
   "metadata": {},
   "outputs": [],
   "source": [
    "with open(biop_sents, \"r\") as f:\n",
    "    docs = [json.loads(line) for line in f]"
   ]
  },
  {
   "cell_type": "code",
   "execution_count": 30,
   "metadata": {},
   "outputs": [
    {
     "data": {
      "text/plain": [
       "{'ids': ['train#0#impression#0@0',\n",
       "  'train#0#impression#0@1',\n",
       "  'train#0#impression#1@0',\n",
       "  'train#0#impression#2@0',\n",
       "  'train#0#impression#2@1',\n",
       "  'train#1#findings#0@0',\n",
       "  'train#2#findings#0@0',\n",
       "  'train#2#findings#0@1',\n",
       "  'train#2#findings#0@2',\n",
       "  'train#3#findings#0@0',\n",
       "  'train#3#findings#0@1',\n",
       "  'train#3#findings#1@0',\n",
       "  'train#3#findings#1@1',\n",
       "  'train#3#findings#1@2',\n",
       "  'train#3#findings#2@0',\n",
       "  'train#3#findings#3@0',\n",
       "  'train#3#findings#3@1'],\n",
       " 'sents': ['Decreased bibasilar parenchymal opacities are seen.',\n",
       "  'The bibasilar parenchymal opacities are now minimal.',\n",
       "  'Stable small left pleural effusion.',\n",
       "  'Feeding tube is again seen.',\n",
       "  'Sternal plates are again seen.',\n",
       "  \"No pathological alterations are identified for the patient's age.\",\n",
       "  'Normal cardiomedastinal silhouette.',\n",
       "  'No evidence of pulmonary infiltrates.',\n",
       "  'No occupation of the costophrenic sinuses.',\n",
       "  'A chest radiograph on 12/11/08 at 2315 is demonstrated.',\n",
       "  'A dual lead AICD is demonstrated.',\n",
       "  'Stable cardiomegaly is seen.',\n",
       "  'Stable left basilar opacities are seen.',\n",
       "  'The left basilar opacities are likely atelectasis.',\n",
       "  'Persistent right-sided pleural effusion.',\n",
       "  'Diffuse reticular opacities are seen.',\n",
       "  'Mild interstitial edema is present.'],\n",
       " 'sent_text': \"<|0|> Decreased bibasilar parenchymal opacities are seen. <|END|><|1|> The bibasilar parenchymal opacities are now minimal. <|END|><|2|> Stable small left pleural effusion. <|END|><|3|> Feeding tube is again seen. <|END|><|4|> Sternal plates are again seen. <|END|><|5|> No pathological alterations are identified for the patient's age. <|END|><|6|> Normal cardiomedastinal silhouette. <|END|><|7|> No evidence of pulmonary infiltrates. <|END|><|8|> No occupation of the costophrenic sinuses. <|END|><|9|> A chest radiograph on 12/11/08 at 2315 is demonstrated. <|END|><|10|> A dual lead AICD is demonstrated. <|END|><|11|> Stable cardiomegaly is seen. <|END|><|12|> Stable left basilar opacities are seen. <|END|><|13|> The left basilar opacities are likely atelectasis. <|END|><|14|> Persistent right-sided pleural effusion. <|END|><|15|> Diffuse reticular opacities are seen. <|END|><|16|> Mild interstitial edema is present. <|END|>\",\n",
       " 'ann': '[{\"annotatedClass\":{\"@id\":\"http://radlex.org/RID/RID36044\",\"@type\":\"http://www.w3.org/2002/07/owl#Class\"},\"hierarchy\":[],\"annotations\":[{\"from\":7,\"to\":15,\"matchType\":\"PREF\",\"text\":\"DECREASED\"}],\"mappings\":[]},{\"annotatedClass\":{\"@id\":\"http://radlex.org/RID/RID5670\",\"@type\":\"http://www.w3.org/2002/07/owl#Class\"},\"hierarchy\":[],\"annotations\":[{\"from\":116,\"to\":122,\"matchType\":\"PREF\",\"text\":\"MINIMAL\"}],\"mappings\":[]},{\"annotatedClass\":{\"@id\":\"http://radlex.org/RID/RID5734\",\"@type\":\"http://www.w3.org/2002/07/owl#Class\"},\"hierarchy\":[],\"annotations\":[{\"from\":138,\"to\":143,\"matchType\":\"PREF\",\"text\":\"STABLE\"},{\"from\":625,\"to\":630,\"matchType\":\"PREF\",\"text\":\"STABLE\"},{\"from\":668,\"to\":673,\"matchType\":\"PREF\",\"text\":\"STABLE\"}],\"mappings\":[]},{\"annotatedClass\":{\"@id\":\"http://radlex.org/RID/RID5774\",\"@type\":\"http://www.w3.org/2002/07/owl#Class\"},\"hierarchy\":[],\"annotations\":[{\"from\":145,\"to\":149,\"matchType\":\"PREF\",\"text\":\"SMALL\"}],\"mappings\":[]},{\"annotatedClass\":{\"@id\":\"http://radlex.org/RID/RID5824\",\"@type\":\"http://www.w3.org/2002/07/owl#Class\"},\"hierarchy\":[],\"annotations\":[{\"from\":151,\"to\":154,\"matchType\":\"PREF\",\"text\":\"LEFT\"},{\"from\":675,\"to\":678,\"matchType\":\"PREF\",\"text\":\"LEFT\"},{\"from\":726,\"to\":729,\"matchType\":\"PREF\",\"text\":\"LEFT\"}],\"mappings\":[]},{\"annotatedClass\":{\"@id\":\"http://radlex.org/RID/RID34539\",\"@type\":\"http://www.w3.org/2002/07/owl#Class\"},\"hierarchy\":[],\"annotations\":[{\"from\":156,\"to\":171,\"matchType\":\"PREF\",\"text\":\"PLEURAL EFFUSION\"},{\"from\":810,\"to\":825,\"matchType\":\"PREF\",\"text\":\"PLEURAL EFFUSION\"}],\"mappings\":[]},{\"annotatedClass\":{\"@id\":\"http://radlex.org/RID/RID4872\",\"@type\":\"http://www.w3.org/2002/07/owl#Class\"},\"hierarchy\":[],\"annotations\":[{\"from\":164,\"to\":171,\"matchType\":\"PREF\",\"text\":\"EFFUSION\"},{\"from\":818,\"to\":825,\"matchType\":\"PREF\",\"text\":\"EFFUSION\"}],\"mappings\":[]},{\"annotatedClass\":{\"@id\":\"http://radlex.org/RID/RID5561\",\"@type\":\"http://www.w3.org/2002/07/owl#Class\"},\"hierarchy\":[],\"annotations\":[{\"from\":187,\"to\":198,\"matchType\":\"PREF\",\"text\":\"FEEDING TUBE\"}],\"mappings\":[]},{\"annotatedClass\":{\"@id\":\"http://radlex.org/RID/RID5555\",\"@type\":\"http://www.w3.org/2002/07/owl#Class\"},\"hierarchy\":[],\"annotations\":[{\"from\":195,\"to\":198,\"matchType\":\"PREF\",\"text\":\"TUBE\"}],\"mappings\":[]},{\"annotatedClass\":{\"@id\":\"http://radlex.org/RID/RID49815\",\"@type\":\"http://www.w3.org/2002/07/owl#Class\"},\"hierarchy\":[],\"annotations\":[{\"from\":323,\"to\":329,\"matchType\":\"PREF\",\"text\":\"PATIENT\"}],\"mappings\":[]},{\"annotatedClass\":{\"@id\":\"http://radlex.org/RID/RID13173\",\"@type\":\"http://www.w3.org/2002/07/owl#Class\"},\"hierarchy\":[],\"annotations\":[{\"from\":351,\"to\":356,\"matchType\":\"PREF\",\"text\":\"NORMAL\"}],\"mappings\":[]},{\"annotatedClass\":{\"@id\":\"http://radlex.org/RID/RID28579\",\"@type\":\"http://www.w3.org/2002/07/owl#Class\"},\"hierarchy\":[],\"annotations\":[{\"from\":485,\"to\":491,\"matchType\":\"SYN\",\"text\":\"SINUSES\"}],\"mappings\":[]},{\"annotatedClass\":{\"@id\":\"http://radlex.org/RID/RID1243\",\"@type\":\"http://www.w3.org/2002/07/owl#Class\"},\"hierarchy\":[],\"annotations\":[{\"from\":509,\"to\":513,\"matchType\":\"SYN\",\"text\":\"CHEST\"}],\"mappings\":[]},{\"annotatedClass\":{\"@id\":\"http://radlex.org/RID/RID11924\",\"@type\":\"http://www.w3.org/2002/07/owl#Class\"},\"hierarchy\":[],\"annotations\":[{\"from\":584,\"to\":587,\"matchType\":\"PREF\",\"text\":\"LEAD\"}],\"mappings\":[]},{\"annotatedClass\":{\"@id\":\"http://radlex.org/RID/RID5434\",\"@type\":\"http://www.w3.org/2002/07/owl#Class\"},\"hierarchy\":[],\"annotations\":[{\"from\":589,\"to\":592,\"matchType\":\"SYN\",\"text\":\"AICD\"}],\"mappings\":[]},{\"annotatedClass\":{\"@id\":\"http://radlex.org/RID/RID5834\",\"@type\":\"http://www.w3.org/2002/07/owl#Class\"},\"hierarchy\":[],\"annotations\":[{\"from\":680,\"to\":686,\"matchType\":\"PREF\",\"text\":\"BASILAR\"},{\"from\":731,\"to\":737,\"matchType\":\"PREF\",\"text\":\"BASILAR\"}],\"mappings\":[]},{\"annotatedClass\":{\"@id\":\"http://radlex.org/RID/RID28493\",\"@type\":\"http://www.w3.org/2002/07/owl#Class\"},\"hierarchy\":[],\"annotations\":[{\"from\":760,\"to\":770,\"matchType\":\"PREF\",\"text\":\"ATELECTASIS\"}],\"mappings\":[]},{\"annotatedClass\":{\"@id\":\"http://radlex.org/RID/RID34330\",\"@type\":\"http://www.w3.org/2002/07/owl#Class\"},\"hierarchy\":[],\"annotations\":[{\"from\":787,\"to\":796,\"matchType\":\"PREF\",\"text\":\"PERSISTENT\"}],\"mappings\":[]},{\"annotatedClass\":{\"@id\":\"http://radlex.org/RID/RID5825\",\"@type\":\"http://www.w3.org/2002/07/owl#Class\"},\"hierarchy\":[],\"annotations\":[{\"from\":798,\"to\":802,\"matchType\":\"PREF\",\"text\":\"RIGHT\"}],\"mappings\":[]},{\"annotatedClass\":{\"@id\":\"http://radlex.org/RID/RID5701\",\"@type\":\"http://www.w3.org/2002/07/owl#Class\"},\"hierarchy\":[],\"annotations\":[{\"from\":842,\"to\":848,\"matchType\":\"PREF\",\"text\":\"DIFFUSE\"}],\"mappings\":[]},{\"annotatedClass\":{\"@id\":\"http://radlex.org/RID/RID5902\",\"@type\":\"http://www.w3.org/2002/07/owl#Class\"},\"hierarchy\":[],\"annotations\":[{\"from\":850,\"to\":858,\"matchType\":\"PREF\",\"text\":\"RETICULAR\"}],\"mappings\":[]},{\"annotatedClass\":{\"@id\":\"http://radlex.org/RID/RID5671\",\"@type\":\"http://www.w3.org/2002/07/owl#Class\"},\"hierarchy\":[],\"annotations\":[{\"from\":894,\"to\":897,\"matchType\":\"PREF\",\"text\":\"MILD\"}],\"mappings\":[]},{\"annotatedClass\":{\"@id\":\"http://radlex.org/RID/RID6251\",\"@type\":\"http://www.w3.org/2002/07/owl#Class\"},\"hierarchy\":[],\"annotations\":[{\"from\":899,\"to\":910,\"matchType\":\"PREF\",\"text\":\"INTERSTITIAL\"}],\"mappings\":[]},{\"annotatedClass\":{\"@id\":\"http://radlex.org/RID/RID4865\",\"@type\":\"http://www.w3.org/2002/07/owl#Class\"},\"hierarchy\":[],\"annotations\":[{\"from\":912,\"to\":916,\"matchType\":\"PREF\",\"text\":\"EDEMA\"}],\"mappings\":[]},{\"annotatedClass\":{\"@id\":\"http://radlex.org/RID/RID28472\",\"@type\":\"http://www.w3.org/2002/07/owl#Class\"},\"hierarchy\":[],\"annotations\":[{\"from\":921,\"to\":927,\"matchType\":\"PREF\",\"text\":\"PRESENT\"}],\"mappings\":[]}]'}"
      ]
     },
     "execution_count": 30,
     "metadata": {},
     "output_type": "execute_result"
    }
   ],
   "source": [
    "doc = docs[0]\n",
    "doc"
   ]
  },
  {
   "cell_type": "code",
   "execution_count": 43,
   "metadata": {},
   "outputs": [
    {
     "data": {
      "text/plain": [
       "[{'annotatedClass': {'@id': 'http://radlex.org/RID/RID36044',\n",
       "   '@type': 'http://www.w3.org/2002/07/owl#Class'},\n",
       "  'hierarchy': [],\n",
       "  'annotations': [{'from': 7,\n",
       "    'to': 15,\n",
       "    'matchType': 'PREF',\n",
       "    'text': 'DECREASED'}],\n",
       "  'mappings': []},\n",
       " {'annotatedClass': {'@id': 'http://radlex.org/RID/RID5670',\n",
       "   '@type': 'http://www.w3.org/2002/07/owl#Class'},\n",
       "  'hierarchy': [],\n",
       "  'annotations': [{'from': 116,\n",
       "    'to': 122,\n",
       "    'matchType': 'PREF',\n",
       "    'text': 'MINIMAL'}],\n",
       "  'mappings': []},\n",
       " {'annotatedClass': {'@id': 'http://radlex.org/RID/RID5734',\n",
       "   '@type': 'http://www.w3.org/2002/07/owl#Class'},\n",
       "  'hierarchy': [],\n",
       "  'annotations': [{'from': 138,\n",
       "    'to': 143,\n",
       "    'matchType': 'PREF',\n",
       "    'text': 'STABLE'},\n",
       "   {'from': 625, 'to': 630, 'matchType': 'PREF', 'text': 'STABLE'},\n",
       "   {'from': 668, 'to': 673, 'matchType': 'PREF', 'text': 'STABLE'}],\n",
       "  'mappings': []},\n",
       " {'annotatedClass': {'@id': 'http://radlex.org/RID/RID5774',\n",
       "   '@type': 'http://www.w3.org/2002/07/owl#Class'},\n",
       "  'hierarchy': [],\n",
       "  'annotations': [{'from': 145,\n",
       "    'to': 149,\n",
       "    'matchType': 'PREF',\n",
       "    'text': 'SMALL'}],\n",
       "  'mappings': []},\n",
       " {'annotatedClass': {'@id': 'http://radlex.org/RID/RID5824',\n",
       "   '@type': 'http://www.w3.org/2002/07/owl#Class'},\n",
       "  'hierarchy': [],\n",
       "  'annotations': [{'from': 151,\n",
       "    'to': 154,\n",
       "    'matchType': 'PREF',\n",
       "    'text': 'LEFT'},\n",
       "   {'from': 675, 'to': 678, 'matchType': 'PREF', 'text': 'LEFT'},\n",
       "   {'from': 726, 'to': 729, 'matchType': 'PREF', 'text': 'LEFT'}],\n",
       "  'mappings': []},\n",
       " {'annotatedClass': {'@id': 'http://radlex.org/RID/RID34539',\n",
       "   '@type': 'http://www.w3.org/2002/07/owl#Class'},\n",
       "  'hierarchy': [],\n",
       "  'annotations': [{'from': 156,\n",
       "    'to': 171,\n",
       "    'matchType': 'PREF',\n",
       "    'text': 'PLEURAL EFFUSION'},\n",
       "   {'from': 810, 'to': 825, 'matchType': 'PREF', 'text': 'PLEURAL EFFUSION'}],\n",
       "  'mappings': []},\n",
       " {'annotatedClass': {'@id': 'http://radlex.org/RID/RID4872',\n",
       "   '@type': 'http://www.w3.org/2002/07/owl#Class'},\n",
       "  'hierarchy': [],\n",
       "  'annotations': [{'from': 164,\n",
       "    'to': 171,\n",
       "    'matchType': 'PREF',\n",
       "    'text': 'EFFUSION'},\n",
       "   {'from': 818, 'to': 825, 'matchType': 'PREF', 'text': 'EFFUSION'}],\n",
       "  'mappings': []},\n",
       " {'annotatedClass': {'@id': 'http://radlex.org/RID/RID5561',\n",
       "   '@type': 'http://www.w3.org/2002/07/owl#Class'},\n",
       "  'hierarchy': [],\n",
       "  'annotations': [{'from': 187,\n",
       "    'to': 198,\n",
       "    'matchType': 'PREF',\n",
       "    'text': 'FEEDING TUBE'}],\n",
       "  'mappings': []},\n",
       " {'annotatedClass': {'@id': 'http://radlex.org/RID/RID5555',\n",
       "   '@type': 'http://www.w3.org/2002/07/owl#Class'},\n",
       "  'hierarchy': [],\n",
       "  'annotations': [{'from': 195,\n",
       "    'to': 198,\n",
       "    'matchType': 'PREF',\n",
       "    'text': 'TUBE'}],\n",
       "  'mappings': []},\n",
       " {'annotatedClass': {'@id': 'http://radlex.org/RID/RID49815',\n",
       "   '@type': 'http://www.w3.org/2002/07/owl#Class'},\n",
       "  'hierarchy': [],\n",
       "  'annotations': [{'from': 323,\n",
       "    'to': 329,\n",
       "    'matchType': 'PREF',\n",
       "    'text': 'PATIENT'}],\n",
       "  'mappings': []},\n",
       " {'annotatedClass': {'@id': 'http://radlex.org/RID/RID13173',\n",
       "   '@type': 'http://www.w3.org/2002/07/owl#Class'},\n",
       "  'hierarchy': [],\n",
       "  'annotations': [{'from': 351,\n",
       "    'to': 356,\n",
       "    'matchType': 'PREF',\n",
       "    'text': 'NORMAL'}],\n",
       "  'mappings': []},\n",
       " {'annotatedClass': {'@id': 'http://radlex.org/RID/RID28579',\n",
       "   '@type': 'http://www.w3.org/2002/07/owl#Class'},\n",
       "  'hierarchy': [],\n",
       "  'annotations': [{'from': 485,\n",
       "    'to': 491,\n",
       "    'matchType': 'SYN',\n",
       "    'text': 'SINUSES'}],\n",
       "  'mappings': []},\n",
       " {'annotatedClass': {'@id': 'http://radlex.org/RID/RID1243',\n",
       "   '@type': 'http://www.w3.org/2002/07/owl#Class'},\n",
       "  'hierarchy': [],\n",
       "  'annotations': [{'from': 509,\n",
       "    'to': 513,\n",
       "    'matchType': 'SYN',\n",
       "    'text': 'CHEST'}],\n",
       "  'mappings': []},\n",
       " {'annotatedClass': {'@id': 'http://radlex.org/RID/RID11924',\n",
       "   '@type': 'http://www.w3.org/2002/07/owl#Class'},\n",
       "  'hierarchy': [],\n",
       "  'annotations': [{'from': 584,\n",
       "    'to': 587,\n",
       "    'matchType': 'PREF',\n",
       "    'text': 'LEAD'}],\n",
       "  'mappings': []},\n",
       " {'annotatedClass': {'@id': 'http://radlex.org/RID/RID5434',\n",
       "   '@type': 'http://www.w3.org/2002/07/owl#Class'},\n",
       "  'hierarchy': [],\n",
       "  'annotations': [{'from': 589,\n",
       "    'to': 592,\n",
       "    'matchType': 'SYN',\n",
       "    'text': 'AICD'}],\n",
       "  'mappings': []},\n",
       " {'annotatedClass': {'@id': 'http://radlex.org/RID/RID5834',\n",
       "   '@type': 'http://www.w3.org/2002/07/owl#Class'},\n",
       "  'hierarchy': [],\n",
       "  'annotations': [{'from': 680,\n",
       "    'to': 686,\n",
       "    'matchType': 'PREF',\n",
       "    'text': 'BASILAR'},\n",
       "   {'from': 731, 'to': 737, 'matchType': 'PREF', 'text': 'BASILAR'}],\n",
       "  'mappings': []},\n",
       " {'annotatedClass': {'@id': 'http://radlex.org/RID/RID28493',\n",
       "   '@type': 'http://www.w3.org/2002/07/owl#Class'},\n",
       "  'hierarchy': [],\n",
       "  'annotations': [{'from': 760,\n",
       "    'to': 770,\n",
       "    'matchType': 'PREF',\n",
       "    'text': 'ATELECTASIS'}],\n",
       "  'mappings': []},\n",
       " {'annotatedClass': {'@id': 'http://radlex.org/RID/RID34330',\n",
       "   '@type': 'http://www.w3.org/2002/07/owl#Class'},\n",
       "  'hierarchy': [],\n",
       "  'annotations': [{'from': 787,\n",
       "    'to': 796,\n",
       "    'matchType': 'PREF',\n",
       "    'text': 'PERSISTENT'}],\n",
       "  'mappings': []},\n",
       " {'annotatedClass': {'@id': 'http://radlex.org/RID/RID5825',\n",
       "   '@type': 'http://www.w3.org/2002/07/owl#Class'},\n",
       "  'hierarchy': [],\n",
       "  'annotations': [{'from': 798,\n",
       "    'to': 802,\n",
       "    'matchType': 'PREF',\n",
       "    'text': 'RIGHT'}],\n",
       "  'mappings': []},\n",
       " {'annotatedClass': {'@id': 'http://radlex.org/RID/RID5701',\n",
       "   '@type': 'http://www.w3.org/2002/07/owl#Class'},\n",
       "  'hierarchy': [],\n",
       "  'annotations': [{'from': 842,\n",
       "    'to': 848,\n",
       "    'matchType': 'PREF',\n",
       "    'text': 'DIFFUSE'}],\n",
       "  'mappings': []},\n",
       " {'annotatedClass': {'@id': 'http://radlex.org/RID/RID5902',\n",
       "   '@type': 'http://www.w3.org/2002/07/owl#Class'},\n",
       "  'hierarchy': [],\n",
       "  'annotations': [{'from': 850,\n",
       "    'to': 858,\n",
       "    'matchType': 'PREF',\n",
       "    'text': 'RETICULAR'}],\n",
       "  'mappings': []},\n",
       " {'annotatedClass': {'@id': 'http://radlex.org/RID/RID5671',\n",
       "   '@type': 'http://www.w3.org/2002/07/owl#Class'},\n",
       "  'hierarchy': [],\n",
       "  'annotations': [{'from': 894,\n",
       "    'to': 897,\n",
       "    'matchType': 'PREF',\n",
       "    'text': 'MILD'}],\n",
       "  'mappings': []},\n",
       " {'annotatedClass': {'@id': 'http://radlex.org/RID/RID6251',\n",
       "   '@type': 'http://www.w3.org/2002/07/owl#Class'},\n",
       "  'hierarchy': [],\n",
       "  'annotations': [{'from': 899,\n",
       "    'to': 910,\n",
       "    'matchType': 'PREF',\n",
       "    'text': 'INTERSTITIAL'}],\n",
       "  'mappings': []},\n",
       " {'annotatedClass': {'@id': 'http://radlex.org/RID/RID4865',\n",
       "   '@type': 'http://www.w3.org/2002/07/owl#Class'},\n",
       "  'hierarchy': [],\n",
       "  'annotations': [{'from': 912,\n",
       "    'to': 916,\n",
       "    'matchType': 'PREF',\n",
       "    'text': 'EDEMA'}],\n",
       "  'mappings': []},\n",
       " {'annotatedClass': {'@id': 'http://radlex.org/RID/RID28472',\n",
       "   '@type': 'http://www.w3.org/2002/07/owl#Class'},\n",
       "  'hierarchy': [],\n",
       "  'annotations': [{'from': 921,\n",
       "    'to': 927,\n",
       "    'matchType': 'PREF',\n",
       "    'text': 'PRESENT'}],\n",
       "  'mappings': []}]"
      ]
     },
     "execution_count": 43,
     "metadata": {},
     "output_type": "execute_result"
    }
   ],
   "source": [
    "ann_result = json.loads(doc[\"ann\"])\n",
    "ann_result"
   ]
  },
  {
   "cell_type": "code",
   "execution_count": 58,
   "metadata": {},
   "outputs": [
    {
     "data": {
      "text/plain": [
       "{'doc_key': 'train#5#findings',\n",
       " 'original_text': 'Anteroposterior chest. Rotated study. Bibasal hypoventilation.',\n",
       " 'original_sentences': [['Anteroposterior', 'chest', '.'],\n",
       "  ['Rotated', 'study', '.'],\n",
       "  ['Bibasal', 'hypoventilation', '.']],\n",
       " 'split_text': [['Anteroposterior chest.'],\n",
       "  ['Rotated study.'],\n",
       "  ['Bibasal hypoventilation.']]}"
      ]
     },
     "execution_count": 58,
     "metadata": {},
     "output_type": "execute_result"
    }
   ],
   "source": [
    "new_ds[10]"
   ]
  },
  {
   "cell_type": "code",
   "execution_count": 63,
   "metadata": {},
   "outputs": [],
   "source": [
    "# Check if the split text is the same as the original text\n",
    "pattern = re.compile(r\"<\\|\\d+\\|> (.*?) <\\|END\\|>\")\n",
    "sents_check = pattern.findall(doc[\"sent_text\"])\n",
    "for sent1, sent2 in zip(sents_check, doc[\"sents\"]):\n",
    "    assert sent1 == sent2, f\"{sent1} || {sent2}\"\n",
    "\n",
    "# Split batched sents text into individual sents\n",
    "char2sent_idx = [-1] * len(doc[\"sent_text\"])\n",
    "split_sents_info = []\n",
    "for idx, (sent_id, split_sent) in enumerate(zip(doc[\"ids\"], doc[\"sents\"])):\n",
    "    sent_char_start = doc[\"sent_text\"].index(split_sent)\n",
    "    sent_char_end = sent_char_start + len(split_sent)\n",
    "    assert doc[\"sent_text\"][sent_char_start:sent_char_end] == split_sent\n",
    "\n",
    "    char2sent_idx[sent_char_start:sent_char_end] = [idx] * len(split_sent)\n",
    "    split_sents_info.append(\n",
    "        {\n",
    "            \"sent_char_start\": sent_char_start,  # also the char offset\n",
    "            \"sent_char_end\": sent_char_end,\n",
    "            \"split_sent\": split_sent,\n",
    "            \"sent_id\": sent_id,\n",
    "            \"radlex\": [],\n",
    "        }\n",
    "    )\n",
    "\n",
    "\"\"\"\n",
    "ann_result = {\n",
    "    'annotatedClass': {'@id': 'http://radlex.org/RID/RID5734', '@type': 'http://www.w3.org/2002/07/owl#Class'},\n",
    "    'hierarchy': [],\n",
    "    'annotations': [\n",
    "        {'from': 138, 'to': 143, 'matchType': 'PREF', 'text': 'STABLE'},\n",
    "        {'from': 625, 'to': 630, 'matchType': 'PREF', 'text': 'STABLE'},\n",
    "        {'from': 668, 'to': 673, 'matchType': 'PREF', 'text': 'STABLE'}],\n",
    "    'mappings': []},\n",
    "\"\"\"\n",
    "for ann_result in json.loads(doc[\"ann\"]):\n",
    "    full_id = ann_result[\"annotatedClass\"][\"@id\"]\n",
    "    for annotation in ann_result[\"annotations\"]:\n",
    "        from_char = annotation[\"from\"] - 1\n",
    "        to_char = annotation[\"to\"]\n",
    "        ann_text = annotation[\"text\"].lower()\n",
    "        ann_matchType = annotation[\"matchType\"]\n",
    "\n",
    "        sent_idx = char2sent_idx[from_char]\n",
    "        assert sent_idx == char2sent_idx[to_char - 1]\n",
    "        assert ann_text == doc[\"sent_text\"][from_char:to_char].lower()\n",
    "\n",
    "        split_sent_dict = split_sents_info[sent_idx]\n",
    "        split_sent_dict[\"radlex\"].append((from_char, to_char, ann_text, ann_matchType, full_id))"
   ]
  },
  {
   "cell_type": "code",
   "execution_count": 64,
   "metadata": {},
   "outputs": [
    {
     "data": {
      "text/plain": [
       "[{'sent_char_start': 6,\n",
       "  'sent_char_end': 57,\n",
       "  'split_sent': 'Decreased bibasilar parenchymal opacities are seen.',\n",
       "  'sent_id': 'train#0#impression#0@0',\n",
       "  'radlex': [(6, 15, 'decreased', 'PREF', 'http://radlex.org/RID/RID36044')]},\n",
       " {'sent_char_start': 71,\n",
       "  'sent_char_end': 123,\n",
       "  'split_sent': 'The bibasilar parenchymal opacities are now minimal.',\n",
       "  'sent_id': 'train#0#impression#0@1',\n",
       "  'radlex': [(115, 122, 'minimal', 'PREF', 'http://radlex.org/RID/RID5670')]},\n",
       " {'sent_char_start': 137,\n",
       "  'sent_char_end': 172,\n",
       "  'split_sent': 'Stable small left pleural effusion.',\n",
       "  'sent_id': 'train#0#impression#1@0',\n",
       "  'radlex': [(137, 143, 'stable', 'PREF', 'http://radlex.org/RID/RID5734'),\n",
       "   (144, 149, 'small', 'PREF', 'http://radlex.org/RID/RID5774'),\n",
       "   (150, 154, 'left', 'PREF', 'http://radlex.org/RID/RID5824'),\n",
       "   (155, 171, 'pleural effusion', 'PREF', 'http://radlex.org/RID/RID34539'),\n",
       "   (163, 171, 'effusion', 'PREF', 'http://radlex.org/RID/RID4872')]},\n",
       " {'sent_char_start': 186,\n",
       "  'sent_char_end': 213,\n",
       "  'split_sent': 'Feeding tube is again seen.',\n",
       "  'sent_id': 'train#0#impression#2@0',\n",
       "  'radlex': [(186,\n",
       "    198,\n",
       "    'feeding tube',\n",
       "    'PREF',\n",
       "    'http://radlex.org/RID/RID5561'),\n",
       "   (194, 198, 'tube', 'PREF', 'http://radlex.org/RID/RID5555')]},\n",
       " {'sent_char_start': 227,\n",
       "  'sent_char_end': 257,\n",
       "  'split_sent': 'Sternal plates are again seen.',\n",
       "  'sent_id': 'train#0#impression#2@1',\n",
       "  'radlex': []},\n",
       " {'sent_char_start': 271,\n",
       "  'sent_char_end': 336,\n",
       "  'split_sent': \"No pathological alterations are identified for the patient's age.\",\n",
       "  'sent_id': 'train#1#findings#0@0',\n",
       "  'radlex': [(322, 329, 'patient', 'PREF', 'http://radlex.org/RID/RID49815')]},\n",
       " {'sent_char_start': 350,\n",
       "  'sent_char_end': 385,\n",
       "  'split_sent': 'Normal cardiomedastinal silhouette.',\n",
       "  'sent_id': 'train#2#findings#0@0',\n",
       "  'radlex': [(350, 356, 'normal', 'PREF', 'http://radlex.org/RID/RID13173')]},\n",
       " {'sent_char_start': 399,\n",
       "  'sent_char_end': 436,\n",
       "  'split_sent': 'No evidence of pulmonary infiltrates.',\n",
       "  'sent_id': 'train#2#findings#0@1',\n",
       "  'radlex': []},\n",
       " {'sent_char_start': 450,\n",
       "  'sent_char_end': 492,\n",
       "  'split_sent': 'No occupation of the costophrenic sinuses.',\n",
       "  'sent_id': 'train#2#findings#0@2',\n",
       "  'radlex': [(484, 491, 'sinuses', 'SYN', 'http://radlex.org/RID/RID28579')]},\n",
       " {'sent_char_start': 506,\n",
       "  'sent_char_end': 561,\n",
       "  'split_sent': 'A chest radiograph on 12/11/08 at 2315 is demonstrated.',\n",
       "  'sent_id': 'train#3#findings#0@0',\n",
       "  'radlex': [(508, 513, 'chest', 'SYN', 'http://radlex.org/RID/RID1243')]},\n",
       " {'sent_char_start': 576,\n",
       "  'sent_char_end': 609,\n",
       "  'split_sent': 'A dual lead AICD is demonstrated.',\n",
       "  'sent_id': 'train#3#findings#0@1',\n",
       "  'radlex': [(583, 587, 'lead', 'PREF', 'http://radlex.org/RID/RID11924'),\n",
       "   (588, 592, 'aicd', 'SYN', 'http://radlex.org/RID/RID5434')]},\n",
       " {'sent_char_start': 624,\n",
       "  'sent_char_end': 652,\n",
       "  'split_sent': 'Stable cardiomegaly is seen.',\n",
       "  'sent_id': 'train#3#findings#1@0',\n",
       "  'radlex': [(624, 630, 'stable', 'PREF', 'http://radlex.org/RID/RID5734')]},\n",
       " {'sent_char_start': 667,\n",
       "  'sent_char_end': 706,\n",
       "  'split_sent': 'Stable left basilar opacities are seen.',\n",
       "  'sent_id': 'train#3#findings#1@1',\n",
       "  'radlex': [(667, 673, 'stable', 'PREF', 'http://radlex.org/RID/RID5734'),\n",
       "   (674, 678, 'left', 'PREF', 'http://radlex.org/RID/RID5824'),\n",
       "   (679, 686, 'basilar', 'PREF', 'http://radlex.org/RID/RID5834')]},\n",
       " {'sent_char_start': 721,\n",
       "  'sent_char_end': 771,\n",
       "  'split_sent': 'The left basilar opacities are likely atelectasis.',\n",
       "  'sent_id': 'train#3#findings#1@2',\n",
       "  'radlex': [(725, 729, 'left', 'PREF', 'http://radlex.org/RID/RID5824'),\n",
       "   (730, 737, 'basilar', 'PREF', 'http://radlex.org/RID/RID5834'),\n",
       "   (759, 770, 'atelectasis', 'PREF', 'http://radlex.org/RID/RID28493')]},\n",
       " {'sent_char_start': 786,\n",
       "  'sent_char_end': 826,\n",
       "  'split_sent': 'Persistent right-sided pleural effusion.',\n",
       "  'sent_id': 'train#3#findings#2@0',\n",
       "  'radlex': [(809,\n",
       "    825,\n",
       "    'pleural effusion',\n",
       "    'PREF',\n",
       "    'http://radlex.org/RID/RID34539'),\n",
       "   (817, 825, 'effusion', 'PREF', 'http://radlex.org/RID/RID4872'),\n",
       "   (786, 796, 'persistent', 'PREF', 'http://radlex.org/RID/RID34330'),\n",
       "   (797, 802, 'right', 'PREF', 'http://radlex.org/RID/RID5825')]},\n",
       " {'sent_char_start': 841,\n",
       "  'sent_char_end': 878,\n",
       "  'split_sent': 'Diffuse reticular opacities are seen.',\n",
       "  'sent_id': 'train#3#findings#3@0',\n",
       "  'radlex': [(841, 848, 'diffuse', 'PREF', 'http://radlex.org/RID/RID5701'),\n",
       "   (849, 858, 'reticular', 'PREF', 'http://radlex.org/RID/RID5902')]},\n",
       " {'sent_char_start': 893,\n",
       "  'sent_char_end': 928,\n",
       "  'split_sent': 'Mild interstitial edema is present.',\n",
       "  'sent_id': 'train#3#findings#3@1',\n",
       "  'radlex': [(893, 897, 'mild', 'PREF', 'http://radlex.org/RID/RID5671'),\n",
       "   (898, 910, 'interstitial', 'PREF', 'http://radlex.org/RID/RID6251'),\n",
       "   (911, 916, 'edema', 'PREF', 'http://radlex.org/RID/RID4865'),\n",
       "   (920, 927, 'present', 'PREF', 'http://radlex.org/RID/RID28472')]}]"
      ]
     },
     "execution_count": 64,
     "metadata": {},
     "output_type": "execute_result"
    }
   ],
   "source": [
    "split_sents_info"
   ]
  }
 ],
 "metadata": {
  "kernelspec": {
   "display_name": "arrg_proprocessing",
   "language": "python",
   "name": "python3"
  },
  "language_info": {
   "codemirror_mode": {
    "name": "ipython",
    "version": 3
   },
   "file_extension": ".py",
   "mimetype": "text/x-python",
   "name": "python",
   "nbconvert_exporter": "python",
   "pygments_lexer": "ipython3",
   "version": "3.9.20"
  }
 },
 "nbformat": 4,
 "nbformat_minor": 2
}
